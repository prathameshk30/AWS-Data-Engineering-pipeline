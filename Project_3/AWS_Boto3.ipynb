{
 "cells": [
  {
   "cell_type": "code",
   "execution_count": 1,
   "metadata": {},
   "outputs": [],
   "source": [
    "#import below libraries\n",
    "import awswrangler as wr\n",
    "import pandas as pd\n",
    "import boto3\n",
    "import warnings \n",
    "warnings.filterwarnings('ignore')\n",
    "import configparser"
   ]
  },
  {
   "cell_type": "code",
   "execution_count": 2,
   "metadata": {},
   "outputs": [],
   "source": [
    "#reading the credentials securely.\n",
    "credents = configparser.ConfigParser()"
   ]
  },
  {
   "cell_type": "code",
   "execution_count": 3,
   "metadata": {},
   "outputs": [
    {
     "data": {
      "text/plain": [
       "['C:\\\\Fall 2022 courses\\\\Project\\\\Pyspark\\\\AWS-Data-Engineering-pipeline\\\\secret.config']"
      ]
     },
     "execution_count": 3,
     "metadata": {},
     "output_type": "execute_result"
    }
   ],
   "source": [
    "#use read_file method\n",
    "credents.read('C:\\Fall 2022 courses\\Project\\Pyspark\\AWS-Data-Engineering-pipeline\\secret.config')"
   ]
  },
  {
   "cell_type": "code",
   "execution_count": 4,
   "metadata": {},
   "outputs": [],
   "source": [
    "#Reading in the credentials into Python variables. No can see them\n",
    "aws_key = credents[\"AWS\"][\"KEY\"]\n",
    "aws_secret = credents[\"AWS\"][\"SECRET\"]\n",
    "region = credents[\"AWS\"][\"REGION\"]\n"
   ]
  },
  {
   "cell_type": "code",
   "execution_count": 5,
   "metadata": {},
   "outputs": [],
   "source": [
    "#Creating the Session\n",
    "your_session = boto3.Session(aws_access_key_id=aws_key,\n",
    "                            aws_secret_access_key=aws_secret,\n",
    "                            region_name=region)"
   ]
  },
  {
   "cell_type": "code",
   "execution_count": 20,
   "metadata": {},
   "outputs": [
    {
     "data": {
      "text/plain": [
       "['aws-athena-query-results-280202838492-us-east-1',\n",
       " 'new-spark-project-tutorial',\n",
       " 'walmart-east-2-tracker-new']"
      ]
     },
     "execution_count": 20,
     "metadata": {},
     "output_type": "execute_result"
    }
   ],
   "source": [
    "#verifying your session by listing the buckets\n",
    "your_buckets = wr.s3.list_buckets(boto3_session=your_session)\n",
    "your_buckets"
   ]
  },
  {
   "cell_type": "code",
   "execution_count": 13,
   "metadata": {},
   "outputs": [
    {
     "data": {
      "text/plain": [
       "{'ResponseMetadata': {'RequestId': '533M7PFY88F6PV4E',\n",
       "  'HostId': 'Hw7J1eI9HDThh6BtQf1TFCpWI2OSpn2ZtE+jR65znBl2J65Yw8obhTcdIwd/bYmR58TjyHsbV8Y=',\n",
       "  'HTTPStatusCode': 200,\n",
       "  'HTTPHeaders': {'x-amz-id-2': 'Hw7J1eI9HDThh6BtQf1TFCpWI2OSpn2ZtE+jR65znBl2J65Yw8obhTcdIwd/bYmR58TjyHsbV8Y=',\n",
       "   'x-amz-request-id': '533M7PFY88F6PV4E',\n",
       "   'date': 'Thu, 29 Jun 2023 23:35:26 GMT',\n",
       "   'location': '/new-spark-project-tutorial',\n",
       "   'server': 'AmazonS3',\n",
       "   'content-length': '0'},\n",
       "  'RetryAttempts': 0},\n",
       " 'Location': '/new-spark-project-tutorial'}"
      ]
     },
     "execution_count": 13,
     "metadata": {},
     "output_type": "execute_result"
    }
   ],
   "source": [
    " # Creating new S3 bucket\n",
    "\n",
    "#Create bucket name\n",
    "bucket_name='new-spark-project-tutorial'\n",
    "\n",
    "#Create Bucket\n",
    "s3client=your_session.client('s3')\n",
    "s3client.create_bucket(Bucket=bucket_name)\n"
   ]
  },
  {
   "cell_type": "code",
   "execution_count": 15,
   "metadata": {},
   "outputs": [
    {
     "data": {
      "text/html": [
       "<div>\n",
       "<style scoped>\n",
       "    .dataframe tbody tr th:only-of-type {\n",
       "        vertical-align: middle;\n",
       "    }\n",
       "\n",
       "    .dataframe tbody tr th {\n",
       "        vertical-align: top;\n",
       "    }\n",
       "\n",
       "    .dataframe thead th {\n",
       "        text-align: right;\n",
       "    }\n",
       "</style>\n",
       "<table border=\"1\" class=\"dataframe\">\n",
       "  <thead>\n",
       "    <tr style=\"text-align: right;\">\n",
       "      <th></th>\n",
       "      <th>293</th>\n",
       "      <th>Catherine</th>\n",
       "      <th>Abel</th>\n",
       "      <th>Catherine Abel</th>\n",
       "    </tr>\n",
       "  </thead>\n",
       "  <tbody>\n",
       "    <tr>\n",
       "      <th>0</th>\n",
       "      <td>295</td>\n",
       "      <td>Kim</td>\n",
       "      <td>Abercrombie</td>\n",
       "      <td>Kim Abercrombie</td>\n",
       "    </tr>\n",
       "    <tr>\n",
       "      <th>1</th>\n",
       "      <td>297</td>\n",
       "      <td>Humberto</td>\n",
       "      <td>Acevedo</td>\n",
       "      <td>Humberto Acevedo</td>\n",
       "    </tr>\n",
       "  </tbody>\n",
       "</table>\n",
       "</div>"
      ],
      "text/plain": [
       "   293 Catherine         Abel    Catherine Abel\n",
       "0  295       Kim  Abercrombie   Kim Abercrombie\n",
       "1  297  Humberto      Acevedo  Humberto Acevedo"
      ]
     },
     "execution_count": 15,
     "metadata": {},
     "output_type": "execute_result"
    }
   ],
   "source": [
    "# read the files\n",
    "\n",
    "customers_csv = pd.read_csv(\"C:\\Fall 2022 courses\\Project\\Pyspark\\AWS-Data-Engineering-pipeline\\Project_3\\customers\\customers.csv\")\n",
    "customers_csv.head(2)"
   ]
  },
  {
   "cell_type": "code",
   "execution_count": 19,
   "metadata": {},
   "outputs": [
    {
     "data": {
      "text/html": [
       "<div>\n",
       "<style scoped>\n",
       "    .dataframe tbody tr th:only-of-type {\n",
       "        vertical-align: middle;\n",
       "    }\n",
       "\n",
       "    .dataframe tbody tr th {\n",
       "        vertical-align: top;\n",
       "    }\n",
       "\n",
       "    .dataframe thead th {\n",
       "        text-align: right;\n",
       "    }\n",
       "</style>\n",
       "<table border=\"1\" class=\"dataframe\">\n",
       "  <thead>\n",
       "    <tr style=\"text-align: right;\">\n",
       "      <th></th>\n",
       "      <th>274</th>\n",
       "      <th>NULL</th>\n",
       "      <th>Stephen</th>\n",
       "      <th>Jiang</th>\n",
       "      <th>Stephen Jiang</th>\n",
       "      <th>North American Sales Manager</th>\n",
       "      <th>2</th>\n",
       "      <th>M</th>\n",
       "      <th>M.1</th>\n",
       "      <th>NULL.1</th>\n",
       "      <th>NULL.2</th>\n",
       "      <th>NULL.3</th>\n",
       "    </tr>\n",
       "  </thead>\n",
       "  <tbody>\n",
       "    <tr>\n",
       "      <th>0</th>\n",
       "      <td>275</td>\n",
       "      <td>274.0</td>\n",
       "      <td>Michael</td>\n",
       "      <td>Blythe</td>\n",
       "      <td>Michael Blythe</td>\n",
       "      <td>Sales Representative</td>\n",
       "      <td>3</td>\n",
       "      <td>S</td>\n",
       "      <td>M</td>\n",
       "      <td>Northeast</td>\n",
       "      <td>US</td>\n",
       "      <td>North America</td>\n",
       "    </tr>\n",
       "    <tr>\n",
       "      <th>1</th>\n",
       "      <td>276</td>\n",
       "      <td>274.0</td>\n",
       "      <td>Linda</td>\n",
       "      <td>Mitchell</td>\n",
       "      <td>Linda Mitchell</td>\n",
       "      <td>Sales Representative</td>\n",
       "      <td>3</td>\n",
       "      <td>M</td>\n",
       "      <td>F</td>\n",
       "      <td>Southwest</td>\n",
       "      <td>US</td>\n",
       "      <td>North America</td>\n",
       "    </tr>\n",
       "  </tbody>\n",
       "</table>\n",
       "</div>"
      ],
      "text/plain": [
       "   274   NULL  Stephen     Jiang   Stephen Jiang North American Sales Manager  \\\n",
       "0  275  274.0  Michael    Blythe  Michael Blythe         Sales Representative   \n",
       "1  276  274.0    Linda  Mitchell  Linda Mitchell         Sales Representative   \n",
       "\n",
       "   2  M M.1     NULL.1 NULL.2         NULL.3  \n",
       "0  3  S   M  Northeast     US  North America  \n",
       "1  3  M   F  Southwest     US  North America  "
      ]
     },
     "execution_count": 19,
     "metadata": {},
     "output_type": "execute_result"
    }
   ],
   "source": [
    "# read the files\n",
    "\n",
    "employess_csv = pd.read_csv(\"C:\\Fall 2022 courses\\Project\\Pyspark\\AWS-Data-Engineering-pipeline\\Project_3\\employees\\employees.csv\")\n",
    "employess_csv.head(2)"
   ]
  },
  {
   "cell_type": "code",
   "execution_count": 18,
   "metadata": {},
   "outputs": [
    {
     "data": {
      "text/html": [
       "<div>\n",
       "<style scoped>\n",
       "    .dataframe tbody tr th:only-of-type {\n",
       "        vertical-align: middle;\n",
       "    }\n",
       "\n",
       "    .dataframe tbody tr th {\n",
       "        vertical-align: top;\n",
       "    }\n",
       "\n",
       "    .dataframe thead th {\n",
       "        text-align: right;\n",
       "    }\n",
       "</style>\n",
       "<table border=\"1\" class=\"dataframe\">\n",
       "  <thead>\n",
       "    <tr style=\"text-align: right;\">\n",
       "      <th></th>\n",
       "      <th>43659</th>\n",
       "      <th>1</th>\n",
       "      <th>5/31/2011</th>\n",
       "      <th>6/12/2011</th>\n",
       "      <th>6/7/2011</th>\n",
       "      <th>279</th>\n",
       "      <th>1045</th>\n",
       "      <th>20565.6206</th>\n",
       "      <th>1971.5149</th>\n",
       "      <th>616.0984</th>\n",
       "      <th>23153.2339</th>\n",
       "      <th>776</th>\n",
       "      <th>1.1</th>\n",
       "      <th>2024.994</th>\n",
       "      <th>0</th>\n",
       "      <th>2024.994.1</th>\n",
       "    </tr>\n",
       "  </thead>\n",
       "  <tbody>\n",
       "    <tr>\n",
       "      <th>0</th>\n",
       "      <td>43659</td>\n",
       "      <td>2</td>\n",
       "      <td>5/31/2011</td>\n",
       "      <td>6/12/2011</td>\n",
       "      <td>6/7/2011</td>\n",
       "      <td>279</td>\n",
       "      <td>1045</td>\n",
       "      <td>20565.6206</td>\n",
       "      <td>1971.5149</td>\n",
       "      <td>616.0984</td>\n",
       "      <td>23153.2339</td>\n",
       "      <td>777</td>\n",
       "      <td>3</td>\n",
       "      <td>2024.994</td>\n",
       "      <td>0.0</td>\n",
       "      <td>6074.982</td>\n",
       "    </tr>\n",
       "    <tr>\n",
       "      <th>1</th>\n",
       "      <td>43659</td>\n",
       "      <td>3</td>\n",
       "      <td>5/31/2011</td>\n",
       "      <td>6/12/2011</td>\n",
       "      <td>6/7/2011</td>\n",
       "      <td>279</td>\n",
       "      <td>1045</td>\n",
       "      <td>20565.6206</td>\n",
       "      <td>1971.5149</td>\n",
       "      <td>616.0984</td>\n",
       "      <td>23153.2339</td>\n",
       "      <td>778</td>\n",
       "      <td>1</td>\n",
       "      <td>2024.994</td>\n",
       "      <td>0.0</td>\n",
       "      <td>2024.994</td>\n",
       "    </tr>\n",
       "  </tbody>\n",
       "</table>\n",
       "</div>"
      ],
      "text/plain": [
       "   43659  1  5/31/2011  6/12/2011  6/7/2011  279  1045  20565.6206  1971.5149  \\\n",
       "0  43659  2  5/31/2011  6/12/2011  6/7/2011  279  1045  20565.6206  1971.5149   \n",
       "1  43659  3  5/31/2011  6/12/2011  6/7/2011  279  1045  20565.6206  1971.5149   \n",
       "\n",
       "   616.0984  23153.2339  776  1.1  2024.994    0  2024.994.1  \n",
       "0  616.0984  23153.2339  777    3  2024.994  0.0    6074.982  \n",
       "1  616.0984  23153.2339  778    1  2024.994  0.0    2024.994  "
      ]
     },
     "execution_count": 18,
     "metadata": {},
     "output_type": "execute_result"
    }
   ],
   "source": [
    "# read the files\n",
    "\n",
    "orders_csv = pd.read_csv(\"C:\\Fall 2022 courses\\Project\\Pyspark\\AWS-Data-Engineering-pipeline\\Project_3\\orders\\orders.csv\")\n",
    "orders_csv.head(2)"
   ]
  },
  {
   "cell_type": "code",
   "execution_count": 22,
   "metadata": {},
   "outputs": [],
   "source": [
    "# Create a s3 path\n",
    "\n",
    "main_path='s3://new-spark-project-tutorial'"
   ]
  },
  {
   "cell_type": "code",
   "execution_count": 24,
   "metadata": {},
   "outputs": [
    {
     "data": {
      "text/plain": [
       "{'paths': ['s3://new-spark-project-tutorial/csv/customers_csv.csv'],\n",
       " 'partitions_values': {}}"
      ]
     },
     "execution_count": 24,
     "metadata": {},
     "output_type": "execute_result"
    }
   ],
   "source": [
    "# Uploading file to S3\n",
    "\n",
    "wr.s3.to_csv(df= customers_csv,\n",
    "        path=main_path + '/csv/customers_csv.csv',\n",
    "    boto3_session=your_session)"
   ]
  },
  {
   "cell_type": "code",
   "execution_count": 25,
   "metadata": {},
   "outputs": [
    {
     "data": {
      "text/plain": [
       "{'paths': ['s3://new-spark-project-tutorial/csv/employess_csv.csv'],\n",
       " 'partitions_values': {}}"
      ]
     },
     "execution_count": 25,
     "metadata": {},
     "output_type": "execute_result"
    }
   ],
   "source": [
    "wr.s3.to_csv(df= employess_csv,\n",
    "        path=main_path + '/csv/employess_csv.csv',\n",
    "    boto3_session=your_session)"
   ]
  },
  {
   "cell_type": "code",
   "execution_count": 26,
   "metadata": {},
   "outputs": [
    {
     "data": {
      "text/plain": [
       "{'paths': ['s3://new-spark-project-tutorial/csv/orders_csv .csv'],\n",
       " 'partitions_values': {}}"
      ]
     },
     "execution_count": 26,
     "metadata": {},
     "output_type": "execute_result"
    }
   ],
   "source": [
    "wr.s3.to_csv(df= orders_csv ,\n",
    "        path=main_path + '/csv/orders_csv .csv',\n",
    "    boto3_session=your_session)"
   ]
  },
  {
   "cell_type": "code",
   "execution_count": 28,
   "metadata": {},
   "outputs": [
    {
     "data": {
      "text/plain": [
       "['s3://new-spark-project-tutorial/csv/customers_csv.csv',\n",
       " 's3://new-spark-project-tutorial/csv/employess_csv.csv',\n",
       " 's3://new-spark-project-tutorial/csv/orders_csv .csv']"
      ]
     },
     "execution_count": 28,
     "metadata": {},
     "output_type": "execute_result"
    }
   ],
   "source": [
    "# Verify the data is written using list_objects\n",
    "\n",
    "wr.s3.list_objects(main_path,boto3_session=your_session)"
   ]
  },
  {
   "cell_type": "code",
   "execution_count": null,
   "metadata": {},
   "outputs": [],
   "source": []
  }
 ],
 "metadata": {
  "kernelspec": {
   "display_name": "base",
   "language": "python",
   "name": "python3"
  },
  "language_info": {
   "codemirror_mode": {
    "name": "ipython",
    "version": 3
   },
   "file_extension": ".py",
   "mimetype": "text/x-python",
   "name": "python",
   "nbconvert_exporter": "python",
   "pygments_lexer": "ipython3",
   "version": "3.9.13"
  },
  "orig_nbformat": 4
 },
 "nbformat": 4,
 "nbformat_minor": 2
}
